{
 "cells": [
  {
   "cell_type": "code",
   "execution_count": 3,
   "id": "b27667b8",
   "metadata": {},
   "outputs": [
    {
     "data": {
      "text/plain": [
       "2"
      ]
     },
     "execution_count": 3,
     "metadata": {},
     "output_type": "execute_result"
    }
   ],
   "source": [
    "1+1\n"
   ]
  },
  {
   "cell_type": "code",
   "execution_count": 5,
   "id": "a8aac8a8",
   "metadata": {},
   "outputs": [
    {
     "data": {
      "text/plain": [
       "'friendfriendfriendfriendfriendfriendfriendfriendfriendfriend'"
      ]
     },
     "execution_count": 5,
     "metadata": {},
     "output_type": "execute_result"
    }
   ],
   "source": [
    "\"friend\"*10\n"
   ]
  },
  {
   "cell_type": "markdown",
   "id": "80450fab",
   "metadata": {},
   "source": [
    "# "
   ]
  },
  {
   "cell_type": "code",
   "execution_count": 6,
   "id": "2fd0a46b",
   "metadata": {},
   "outputs": [
    {
     "data": {
      "text/plain": [
       "True"
      ]
     },
     "execution_count": 6,
     "metadata": {},
     "output_type": "execute_result"
    }
   ],
   "source": [
    "1==1"
   ]
  },
  {
   "cell_type": "code",
   "execution_count": 7,
   "id": "a852a095",
   "metadata": {},
   "outputs": [],
   "source": [
    "fruit=[\"apple\",\"banana\",\"grape\"]"
   ]
  },
  {
   "cell_type": "code",
   "execution_count": 8,
   "id": "78031443",
   "metadata": {},
   "outputs": [
    {
     "data": {
      "text/plain": [
       "list"
      ]
     },
     "execution_count": 8,
     "metadata": {},
     "output_type": "execute_result"
    }
   ],
   "source": [
    "type(fruit)"
   ]
  },
  {
   "cell_type": "code",
   "execution_count": 10,
   "id": "804b3a18",
   "metadata": {},
   "outputs": [
    {
     "name": "stdout",
     "output_type": "stream",
     "text": [
      "himeg\n"
     ]
    }
   ],
   "source": [
    "name=\"meg\"\n",
    "if name==\"meg\":\n",
    "    print(\"himeg\")"
   ]
  },
  {
   "cell_type": "code",
   "execution_count": 11,
   "id": "369bb079",
   "metadata": {},
   "outputs": [],
   "source": [
    "name=\"huy\""
   ]
  },
  {
   "cell_type": "code",
   "execution_count": 12,
   "id": "146e8dcd",
   "metadata": {},
   "outputs": [
    {
     "name": "stdout",
     "output_type": "stream",
     "text": [
      "imposter\n"
     ]
    }
   ],
   "source": [
    "if name==\"meg\":\n",
    "    print(\"himeg\")\n",
    "else:\n",
    "    print(\"imposter\")"
   ]
  },
  {
   "cell_type": "code",
   "execution_count": 14,
   "id": "4c590f5b",
   "metadata": {},
   "outputs": [],
   "source": [
    "def say_hello():\n",
    "    print(\"say hello \")"
   ]
  },
  {
   "cell_type": "code",
   "execution_count": 15,
   "id": "785dda51",
   "metadata": {},
   "outputs": [
    {
     "name": "stdout",
     "output_type": "stream",
     "text": [
      "say hello \n"
     ]
    }
   ],
   "source": [
    "say_hello()"
   ]
  },
  {
   "cell_type": "code",
   "execution_count": null,
   "id": "6682513f",
   "metadata": {},
   "outputs": [],
   "source": []
  },
  {
   "cell_type": "code",
   "execution_count": null,
   "id": "3cec413d",
   "metadata": {},
   "outputs": [],
   "source": [
    "2+2"
   ]
  },
  {
   "cell_type": "code",
   "execution_count": 4,
   "id": "3416d200",
   "metadata": {},
   "outputs": [],
   "source": [
    "colour=\"blue\""
   ]
  },
  {
   "cell_type": "raw",
   "id": "d5e8f8fd",
   "metadata": {},
   "source": [
    "colour"
   ]
  },
  {
   "cell_type": "code",
   "execution_count": 4,
   "id": "c9adb231",
   "metadata": {},
   "outputs": [
    {
     "data": {
      "text/plain": [
       "5"
      ]
     },
     "execution_count": 4,
     "metadata": {},
     "output_type": "execute_result"
    }
   ],
   "source": [
    "2+3"
   ]
  },
  {
   "cell_type": "code",
   "execution_count": 5,
   "id": "0cad3008",
   "metadata": {},
   "outputs": [
    {
     "ename": "ModuleNotFoundError",
     "evalue": "No module named 'gues1'",
     "output_type": "error",
     "traceback": [
      "\u001b[0;31m---------------------------------------------------------------------------\u001b[0m",
      "\u001b[0;31mModuleNotFoundError\u001b[0m                       Traceback (most recent call last)",
      "Cell \u001b[0;32mIn [5], line 1\u001b[0m\n\u001b[0;32m----> 1\u001b[0m \u001b[38;5;28;01mimport\u001b[39;00m \u001b[38;5;21;01mgues1\u001b[39;00m\n",
      "\u001b[0;31mModuleNotFoundError\u001b[0m: No module named 'gues1'"
     ]
    }
   ],
   "source": [
    "import gues1\n"
   ]
  },
  {
   "cell_type": "code",
   "execution_count": 6,
   "id": "e88537ce",
   "metadata": {},
   "outputs": [
    {
     "ename": "IndentationError",
     "evalue": "expected an indented block (guess1.py, line 4)",
     "output_type": "error",
     "traceback": [
      "Traceback \u001b[0;36m(most recent call last)\u001b[0m:\n",
      "\u001b[0m  File \u001b[1;32m/opt/tljh/user/lib/python3.9/site-packages/IPython/core/interactiveshell.py:3433\u001b[0m in \u001b[1;35mrun_code\u001b[0m\n    exec(code_obj, self.user_global_ns, self.user_ns)\u001b[0m\n",
      "\u001b[0;36m  Cell \u001b[0;32mIn [6], line 1\u001b[0;36m\n\u001b[0;31m    import guess1\u001b[0;36m\n",
      "\u001b[0;36m  File \u001b[0;32m~/intro_cs_23010317/guess1.py:4\u001b[0;36m\u001b[0m\n\u001b[0;31m    secrete_number=randint(1,10)\u001b[0m\n\u001b[0m    ^\u001b[0m\n\u001b[0;31mIndentationError\u001b[0m\u001b[0;31m:\u001b[0m expected an indented block\n"
     ]
    }
   ],
   "source": [
    "import guess1\n"
   ]
  },
  {
   "cell_type": "code",
   "execution_count": 8,
   "id": "7f04d70b",
   "metadata": {},
   "outputs": [
    {
     "ename": "IndentationError",
     "evalue": "expected an indented block (736959367.py, line 3)",
     "output_type": "error",
     "traceback": [
      "\u001b[0;36m  Cell \u001b[0;32mIn [8], line 3\u001b[0;36m\u001b[0m\n\u001b[0;31m    secrete_number=randint(1,10)\u001b[0m\n\u001b[0m    ^\u001b[0m\n\u001b[0;31mIndentationError\u001b[0m\u001b[0;31m:\u001b[0m expected an indented block\n"
     ]
    }
   ],
   "source": [
    "from random import randint\n",
    "def gues1():\n",
    "secrete_number=randint(1,10)\n",
    "while True:\n",
    "    guess=int(input(\"điền số\"))\n",
    "    if secrete_number==guess:\n",
    "        print(\"you got it\")\n",
    "        break\n",
    "    elif secrete_number<guess:\n",
    "        print(\"nó quá cao\")\n",
    "    else:\n",
    "        print(\"nó quá thấp\")\n"
   ]
  },
  {
   "cell_type": "code",
   "execution_count": 9,
   "id": "b537290d",
   "metadata": {},
   "outputs": [
    {
     "ename": "IndentationError",
     "evalue": "expected an indented block (1821522665.py, line 2)",
     "output_type": "error",
     "traceback": [
      "\u001b[0;36m  Cell \u001b[0;32mIn [9], line 2\u001b[0;36m\u001b[0m\n\u001b[0;31m    secrete_number=randint(1,10)\u001b[0m\n\u001b[0m    ^\u001b[0m\n\u001b[0;31mIndentationError\u001b[0m\u001b[0;31m:\u001b[0m expected an indented block\n"
     ]
    }
   ],
   "source": [
    "def gues1():\n",
    "secrete_number=randint(1,10)\n",
    "while True:\n",
    "    guess=int(input(\"điền số\"))\n",
    "    if secrete_number==guess:\n",
    "        print(\"you got it\")\n",
    "        break\n",
    "    elif secrete_number<guess:\n",
    "        print(\"nó quá cao\")\n",
    "    else:\n",
    "        print(\"nó quá thấp\")\n"
   ]
  },
  {
   "cell_type": "code",
   "execution_count": 10,
   "id": "0c53bd76",
   "metadata": {},
   "outputs": [
    {
     "ename": "ImportError",
     "evalue": "cannot import name 'randin' from 'random' (/opt/tljh/user/lib/python3.9/random.py)",
     "output_type": "error",
     "traceback": [
      "\u001b[0;31m---------------------------------------------------------------------------\u001b[0m",
      "\u001b[0;31mImportError\u001b[0m                               Traceback (most recent call last)",
      "Cell \u001b[0;32mIn [10], line 1\u001b[0m\n\u001b[0;32m----> 1\u001b[0m \u001b[38;5;28;01mfrom\u001b[39;00m \u001b[38;5;21;01mrandom\u001b[39;00m \u001b[38;5;28;01mimport\u001b[39;00m randin\n",
      "\u001b[0;31mImportError\u001b[0m: cannot import name 'randin' from 'random' (/opt/tljh/user/lib/python3.9/random.py)"
     ]
    }
   ],
   "source": [
    "from random import randin\n"
   ]
  },
  {
   "cell_type": "code",
   "execution_count": 11,
   "id": "a41b3236",
   "metadata": {},
   "outputs": [
    {
     "ename": "NameError",
     "evalue": "name 'random' is not defined",
     "output_type": "error",
     "traceback": [
      "\u001b[0;31m---------------------------------------------------------------------------\u001b[0m",
      "\u001b[0;31mNameError\u001b[0m                                 Traceback (most recent call last)",
      "Cell \u001b[0;32mIn [11], line 1\u001b[0m\n\u001b[0;32m----> 1\u001b[0m \u001b[43mrandom\u001b[49m\n",
      "\u001b[0;31mNameError\u001b[0m: name 'random' is not defined"
     ]
    }
   ],
   "source": [
    "random\n"
   ]
  },
  {
   "cell_type": "code",
   "execution_count": 12,
   "id": "aee778be",
   "metadata": {},
   "outputs": [
    {
     "ename": "SyntaxError",
     "evalue": "invalid syntax (2871852150.py, line 1)",
     "output_type": "error",
     "traceback": [
      "\u001b[0;36m  Cell \u001b[0;32mIn [12], line 1\u001b[0;36m\u001b[0m\n\u001b[0;31m    impỏt random\u001b[0m\n\u001b[0m          ^\u001b[0m\n\u001b[0;31mSyntaxError\u001b[0m\u001b[0;31m:\u001b[0m invalid syntax\n"
     ]
    }
   ],
   "source": [
    "impỏt random"
   ]
  },
  {
   "cell_type": "code",
   "execution_count": 13,
   "id": "8f30e280",
   "metadata": {},
   "outputs": [],
   "source": [
    "import random"
   ]
  },
  {
   "cell_type": "code",
   "execution_count": 14,
   "id": "60a6aeab",
   "metadata": {},
   "outputs": [
    {
     "data": {
      "text/plain": [
       "3"
      ]
     },
     "execution_count": 14,
     "metadata": {},
     "output_type": "execute_result"
    }
   ],
   "source": [
    "3\n"
   ]
  },
  {
   "cell_type": "code",
   "execution_count": 15,
   "id": "81fe4f26",
   "metadata": {},
   "outputs": [
    {
     "ename": "AttributeError",
     "evalue": "module 'random' has no attribute 'randin'",
     "output_type": "error",
     "traceback": [
      "\u001b[0;31m---------------------------------------------------------------------------\u001b[0m",
      "\u001b[0;31mAttributeError\u001b[0m                            Traceback (most recent call last)",
      "Cell \u001b[0;32mIn [15], line 1\u001b[0m\n\u001b[0;32m----> 1\u001b[0m \u001b[43mrandom\u001b[49m\u001b[38;5;241;43m.\u001b[39;49m\u001b[43mrandin\u001b[49m\n",
      "\u001b[0;31mAttributeError\u001b[0m: module 'random' has no attribute 'randin'"
     ]
    }
   ],
   "source": [
    "random.randin\n"
   ]
  },
  {
   "cell_type": "code",
   "execution_count": 16,
   "id": "d703d393",
   "metadata": {},
   "outputs": [
    {
     "ename": "ModuleNotFoundError",
     "evalue": "No module named 'randin'",
     "output_type": "error",
     "traceback": [
      "\u001b[0;31m---------------------------------------------------------------------------\u001b[0m",
      "\u001b[0;31mModuleNotFoundError\u001b[0m                       Traceback (most recent call last)",
      "Cell \u001b[0;32mIn [16], line 1\u001b[0m\n\u001b[0;32m----> 1\u001b[0m \u001b[38;5;28;01mimport\u001b[39;00m \u001b[38;5;21;01mrandin\u001b[39;00m\n",
      "\u001b[0;31mModuleNotFoundError\u001b[0m: No module named 'randin'"
     ]
    }
   ],
   "source": [
    "import randin\n"
   ]
  },
  {
   "cell_type": "code",
   "execution_count": 17,
   "id": "a62a5053",
   "metadata": {},
   "outputs": [],
   "source": [
    "import random"
   ]
  },
  {
   "cell_type": "code",
   "execution_count": 18,
   "id": "220d147d",
   "metadata": {},
   "outputs": [
    {
     "ename": "IndentationError",
     "evalue": "expected an indented block (1821522665.py, line 2)",
     "output_type": "error",
     "traceback": [
      "\u001b[0;36m  Cell \u001b[0;32mIn [18], line 2\u001b[0;36m\u001b[0m\n\u001b[0;31m    secrete_number=randint(1,10)\u001b[0m\n\u001b[0m    ^\u001b[0m\n\u001b[0;31mIndentationError\u001b[0m\u001b[0;31m:\u001b[0m expected an indented block\n"
     ]
    }
   ],
   "source": [
    "def gues1():\n",
    "secrete_number=randint(1,10)\n",
    "while True:\n",
    "    guess=int(input(\"điền số\"))\n",
    "    if secrete_number==guess:\n",
    "        print(\"you got it\")\n",
    "        break\n",
    "    elif secrete_number<guess:\n",
    "        print(\"nó quá cao\")\n",
    "    else:\n",
    "        print(\"nó quá thấp\")\n"
   ]
  },
  {
   "cell_type": "code",
   "execution_count": 20,
   "id": "88ec32e1",
   "metadata": {},
   "outputs": [],
   "source": [
    "from random import randint\n"
   ]
  },
  {
   "cell_type": "code",
   "execution_count": 22,
   "id": "493b4579",
   "metadata": {},
   "outputs": [
    {
     "name": "stdout",
     "output_type": "stream",
     "text": [
      "điền số5\n"
     ]
    },
    {
     "ename": "NameError",
     "evalue": "name 'secrete_number' is not defined",
     "output_type": "error",
     "traceback": [
      "\u001b[0;31m---------------------------------------------------------------------------\u001b[0m",
      "\u001b[0;31mNameError\u001b[0m                                 Traceback (most recent call last)",
      "Cell \u001b[0;32mIn [22], line 5\u001b[0m\n\u001b[1;32m      3\u001b[0m \u001b[38;5;28;01mwhile\u001b[39;00m \u001b[38;5;28;01mTrue\u001b[39;00m:\n\u001b[1;32m      4\u001b[0m     guess\u001b[38;5;241m=\u001b[39m\u001b[38;5;28mint\u001b[39m(\u001b[38;5;28minput\u001b[39m(\u001b[38;5;124m\"\u001b[39m\u001b[38;5;124mđiền số\u001b[39m\u001b[38;5;124m\"\u001b[39m))\n\u001b[0;32m----> 5\u001b[0m     \u001b[38;5;28;01mif\u001b[39;00m \u001b[43msecrete_number\u001b[49m\u001b[38;5;241m==\u001b[39mguess:\n\u001b[1;32m      6\u001b[0m         \u001b[38;5;28mprint\u001b[39m(\u001b[38;5;124m\"\u001b[39m\u001b[38;5;124myou got it\u001b[39m\u001b[38;5;124m\"\u001b[39m)\n\u001b[1;32m      7\u001b[0m         \u001b[38;5;28;01mbreak\u001b[39;00m\n",
      "\u001b[0;31mNameError\u001b[0m: name 'secrete_number' is not defined"
     ]
    }
   ],
   "source": [
    "def gues1():\n",
    " secrete_number=randint(1,10)\n",
    "while True:\n",
    "    guess=int(input(\"điền số\"))\n",
    "    if secrete_number==guess:\n",
    "        print(\"you got it\")\n",
    "        break\n",
    "    elif secrete_number<guess:\n",
    "        print(\"nó quá cao\")\n",
    "    else:\n",
    "        print(\"nó quá thấp\")\n"
   ]
  },
  {
   "cell_type": "code",
   "execution_count": 23,
   "id": "72117e3e",
   "metadata": {},
   "outputs": [
    {
     "ename": "IndentationError",
     "evalue": "unexpected indent (1519159172.py, line 6)",
     "output_type": "error",
     "traceback": [
      "\u001b[0;36m  Cell \u001b[0;32mIn [23], line 6\u001b[0;36m\u001b[0m\n\u001b[0;31m    break\u001b[0m\n\u001b[0m    ^\u001b[0m\n\u001b[0;31mIndentationError\u001b[0m\u001b[0;31m:\u001b[0m unexpected indent\n"
     ]
    }
   ],
   "source": [
    "from random import randint\n",
    "secret_number = randint(1, 10)\n",
    "while True:\n",
    "    guess = input(\"What number am I thinking of? \")\n",
    "    if secret_number == guess:         print(\"Yay! You got it.\")\n",
    "        break\n",
    "    else:\n",
    "        print(\"No, that's not it.\") "
   ]
  },
  {
   "cell_type": "code",
   "execution_count": null,
   "id": "20d7f59c",
   "metadata": {},
   "outputs": [],
   "source": [
    "def guess1():\n",
    "from random import randint\n",
    "secret_number = randint(1, 10)\n",
    "while True:\n",
    "    guess = int(input(\"What number am I thinking of? \"))\n",
    "    if secret_number == guess:         \n",
    "        print(\"Yay! You got it.\")\n",
    "        break\n",
    "    else:\n",
    "        print(\"No, that's not it.\") "
   ]
  },
  {
   "cell_type": "code",
   "execution_count": null,
   "id": "a3a0a35e",
   "metadata": {},
   "outputs": [],
   "source": [
    "guess1()\n"
   ]
  },
  {
   "cell_type": "code",
   "execution_count": null,
   "id": "9d033237",
   "metadata": {},
   "outputs": [],
   "source": [
    "import guess\n"
   ]
  },
  {
   "cell_type": "code",
   "execution_count": null,
   "id": "c72afe0f",
   "metadata": {},
   "outputs": [],
   "source": [
    "guess.gues1"
   ]
  },
  {
   "cell_type": "code",
   "execution_count": null,
   "id": "849b1081",
   "metadata": {},
   "outputs": [],
   "source": [
    "j"
   ]
  },
  {
   "cell_type": "code",
   "execution_count": null,
   "id": "2d8f2a38",
   "metadata": {},
   "outputs": [],
   "source": [
    "guess.gues1()"
   ]
  },
  {
   "cell_type": "code",
   "execution_count": null,
   "id": "aec0c869",
   "metadata": {},
   "outputs": [],
   "source": [
    "def guess1():\n",
    "secrete_number=randint(1,10)\n",
    "while True:\n",
    "    guess=int(input(\"điền số\"))\n",
    "    if secrete_number==guess:\n",
    "        print(\"you got it\")\n",
    "        break\n",
    "    elif secrete_number<guess:\n",
    "        print(\"nó quá cao\")\n",
    "    else:\n",
    "        print(\"nó quá thấp\")\n"
   ]
  },
  {
   "cell_type": "code",
   "execution_count": null,
   "id": "fbd425a6",
   "metadata": {},
   "outputs": [],
   "source": [
    "guess1()"
   ]
  },
  {
   "cell_type": "code",
   "execution_count": null,
   "id": "3ce7e71b",
   "metadata": {},
   "outputs": [],
   "source": [
    "import random\n"
   ]
  },
  {
   "cell_type": "code",
   "execution_count": null,
   "id": "6aec64ac",
   "metadata": {},
   "outputs": [],
   "source": [
    "def guess1():\n",
    "secrete_number=randint(1,10)\n",
    "while True:\n",
    "    guess=int(input(\"điền số\"))\n",
    "    if secrete_number==guess:\n",
    "        print(\"you got it\")\n",
    "        break\n",
    "    elif secrete_number<guess:\n",
    "        print(\"nó quá cao\")\n",
    "    else:\n",
    "        print(\"nó quá thấp\")\n"
   ]
  },
  {
   "cell_type": "code",
   "execution_count": null,
   "id": "e50d409e",
   "metadata": {},
   "outputs": [],
   "source": [
    "guess1"
   ]
  },
  {
   "cell_type": "code",
   "execution_count": null,
   "id": "ef63d25c",
   "metadata": {},
   "outputs": [],
   "source": [
    "guess1()"
   ]
  },
  {
   "cell_type": "code",
   "execution_count": null,
   "id": "eb1e58f1",
   "metadata": {},
   "outputs": [],
   "source": [
    "def guess1():\n",
    "secrete_number=randint(1,10)\n",
    "while True:\n",
    "    guess=int(input(\"điền số\"))\n",
    "    if secrete_number==guess:\n",
    "        print(\"you got it\")\n",
    "        break\n",
    "    elif secrete_number<guess:\n",
    "        print(\"nó quá cao\")\n",
    "    else:\n",
    "        print(\"nó quá thấp\")"
   ]
  },
  {
   "cell_type": "code",
   "execution_count": null,
   "id": "d9d32b37",
   "metadata": {},
   "outputs": [],
   "source": [
    "guess1"
   ]
  },
  {
   "cell_type": "code",
   "execution_count": null,
   "id": "e07cf412",
   "metadata": {},
   "outputs": [],
   "source": [
    "guess1()"
   ]
  },
  {
   "cell_type": "code",
   "execution_count": null,
   "id": "798309c3",
   "metadata": {},
   "outputs": [],
   "source": [
    "from random import randint\n",
    "def demso():\n",
    "secret_number = 7\n",
    "guess = int(input(\"What number am I thinking of? \"))\n",
    "if secret_number == guess:\n",
    "    print(\"Yay! You got it.\")\n",
    "else:\n",
    "    print(\"No, that's not it.\")"
   ]
  },
  {
   "cell_type": "code",
   "execution_count": null,
   "id": "0d9a3eae",
   "metadata": {},
   "outputs": [],
   "source": [
    "demso()"
   ]
  },
  {
   "cell_type": "code",
   "execution_count": null,
   "id": "3961b940",
   "metadata": {},
   "outputs": [],
   "source": [
    "import guess\n"
   ]
  },
  {
   "cell_type": "code",
   "execution_count": null,
   "id": "2e267f3d",
   "metadata": {},
   "outputs": [],
   "source": [
    "guess.guess2"
   ]
  },
  {
   "cell_type": "code",
   "execution_count": null,
   "id": "74e3e9e1",
   "metadata": {},
   "outputs": [],
   "source": [
    "guess.guess2()"
   ]
  },
  {
   "cell_type": "code",
   "execution_count": null,
   "id": "38c34d61",
   "metadata": {},
   "outputs": [],
   "source": [
    "def guess2():\n",
    "    secret_number=7\n",
    "    guess=int(input(\"What number am i thinking of?\"))\n",
    "    if secret_number=guess:\n",
    "        print(\"Yay,you got it\")\n",
    "    else: \n",
    "        print(\"No,that not it\")"
   ]
  },
  {
   "cell_type": "code",
   "execution_count": null,
   "id": "84cca0df",
   "metadata": {},
   "outputs": [],
   "source": [
    "guess2()"
   ]
  },
  {
   "cell_type": "code",
   "execution_count": null,
   "id": "328ec9c5",
   "metadata": {},
   "outputs": [],
   "source": [
    "1+1"
   ]
  },
  {
   "cell_type": "code",
   "execution_count": null,
   "id": "2ecee025",
   "metadata": {},
   "outputs": [],
   "source": [
    "1+1"
   ]
  },
  {
   "cell_type": "code",
   "execution_count": null,
   "id": "2218f3d7",
   "metadata": {},
   "outputs": [],
   "source": [
    "import random\n"
   ]
  },
  {
   "cell_type": "code",
   "execution_count": null,
   "id": "a85c9023",
   "metadata": {},
   "outputs": [],
   "source": [
    "random.randint(1,100)"
   ]
  },
  {
   "cell_type": "code",
   "execution_count": 1,
   "id": "08510e1f",
   "metadata": {},
   "outputs": [
    {
     "data": {
      "text/plain": [
       "'hithere'"
      ]
     },
     "execution_count": 1,
     "metadata": {},
     "output_type": "execute_result"
    }
   ],
   "source": [
    "\"hi\"+\"there\""
   ]
  },
  {
   "cell_type": "code",
   "execution_count": 2,
   "id": "b78545bc",
   "metadata": {},
   "outputs": [
    {
     "ename": "SyntaxError",
     "evalue": "EOL while scanning string literal (1689677350.py, line 1)",
     "output_type": "error",
     "traceback": [
      "\u001b[0;36m  Cell \u001b[0;32mIn [2], line 1\u001b[0;36m\u001b[0m\n\u001b[0;31m    print(\"hey[4\u001b[0m\n\u001b[0m                ^\u001b[0m\n\u001b[0;31mSyntaxError\u001b[0m\u001b[0;31m:\u001b[0m EOL while scanning string literal\n"
     ]
    }
   ],
   "source": [
    "print(\"hey[4\n",
    "    ]\")"
   ]
  },
  {
   "cell_type": "code",
   "execution_count": 3,
   "id": "653cb8b9",
   "metadata": {},
   "outputs": [
    {
     "name": "stdout",
     "output_type": "stream",
     "text": [
      "h\n"
     ]
    }
   ],
   "source": [
    "print(\"hey\"[0\n",
    "        ])"
   ]
  },
  {
   "cell_type": "code",
   "execution_count": null,
   "id": "2bf33656",
   "metadata": {},
   "outputs": [],
   "source": []
  },
  {
   "cell_type": "code",
   "execution_count": 25,
   "id": "c4797d8c",
   "metadata": {},
   "outputs": [
    {
     "data": {
      "text/plain": [
       "2"
      ]
     },
     "execution_count": 25,
     "metadata": {},
     "output_type": "execute_result"
    }
   ],
   "source": [
    "1+1"
   ]
  },
  {
   "cell_type": "code",
   "execution_count": 27,
   "id": "4ecf697e",
   "metadata": {},
   "outputs": [],
   "source": [
    "def guess2():\n",
    "    secret_number=7\n",
    "    guess=int(input(\"What number am i thinking of?\"))\n",
    "    if secret_number==guess:\n",
    "        print(\"Yay,you got it\")\n",
    "    else: \n",
    "        print(\"No,that not it\")"
   ]
  },
  {
   "cell_type": "code",
   "execution_count": 28,
   "id": "da7d7f75",
   "metadata": {},
   "outputs": [
    {
     "name": "stdout",
     "output_type": "stream",
     "text": [
      "What number am i thinking of?7\n",
      "Yay,you got it\n"
     ]
    }
   ],
   "source": [
    "guess2()"
   ]
  },
  {
   "cell_type": "code",
   "execution_count": 29,
   "id": "23af955d",
   "metadata": {},
   "outputs": [
    {
     "name": "stdout",
     "output_type": "stream",
     "text": [
      "What number am i thinking of?2\n",
      "No,that not it\n"
     ]
    }
   ],
   "source": [
    "guess2()"
   ]
  },
  {
   "cell_type": "code",
   "execution_count": null,
   "id": "84c4dda5",
   "metadata": {},
   "outputs": [],
   "source": []
  }
 ],
 "metadata": {
  "kernelspec": {
   "display_name": "Python 3 (ipykernel)",
   "language": "python",
   "name": "python3"
  },
  "language_info": {
   "codemirror_mode": {
    "name": "ipython",
    "version": 3
   },
   "file_extension": ".py",
   "mimetype": "text/x-python",
   "name": "python",
   "nbconvert_exporter": "python",
   "pygments_lexer": "ipython3",
   "version": "3.9.7"
  }
 },
 "nbformat": 4,
 "nbformat_minor": 5
}
